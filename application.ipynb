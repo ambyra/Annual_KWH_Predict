{
  "metadata": {
    "kernelspec": {
      "name": "python",
      "display_name": "Python (Pyodide)",
      "language": "python"
    },
    "language_info": {
      "codemirror_mode": {
        "name": "python",
        "version": 3
      },
      "file_extension": ".py",
      "mimetype": "text/x-python",
      "name": "python",
      "nbconvert_exporter": "python",
      "pygments_lexer": "ipython3",
      "version": "3.8"
    }
  },
  "nbformat_minor": 4,
  "nbformat": 4,
  "cells": [
    {
      "cell_type": "code",
      "source": "%pip install ipywidgets\nimport ipywidgets as widgets\nimport pandas as pd\nimport numpy as np\nfrom sklearn.ensemble import RandomForestRegressor\nfrom sklearn.model_selection import train_test_split\n\ndef predict_kwh_total(feature_dict):\n    data = pd.read_csv('colorado90.csv')\n\n    #remove NaNs\n    if data.isnull().sum().any(): data = data.fillna(0)\n\n    X = data.drop('KWH_TOTAL', axis=1)\n    y = data['KWH_TOTAL']\n\n    X_train, X_test, y_train, y_test = train_test_split(X, y, test_size=0.2, random_state = 77)\n\n    model = RandomForestRegressor(n_estimators=100, random_state = 77)\n    model.fit(X_train, y_train)\n\n    feature_means = X.mean()\n\n    #  if feature not in feature_dict, add to feature_dict with its mean value\n    for feature in X.columns:\n        if feature not in feature_dict:\n            feature_dict[feature] = feature_means[feature]\n\n    feature_df = pd.DataFrame([feature_dict])\n    feature_df = feature_df[X.columns]\n    kwh_total_pred = model.predict(feature_df)\n\n    return kwh_total_pred[0]\n\n# test \n# feature_dict = {\n#     \"NUMSMPHONE\": 10,\n#     \"TVCOLOR\": 1,\n#     \"DWASHUSE\": 10,\n#     \"SQFTEST\": 1000,\n#     \"TOTROOMS\": 10,\n#     \"ELPERIPH\": 1,\n#     \"TVUSE3\": 1,\n#     \"YEARMADERANGE\": 8,\n#     \"TOTCSQFT\": 1000,\n#     \"LGTIN1TO4\": 10\n# }\n\n# print(predict_kwh_total(feature_dict))\n\ndescriptions_labels = {\n    \"SQFTEST\": 'Estimated Square Footage',\n    \"TVCOLOR\": '# of in use televisions',\n    \"NUMSMPHONE\": '# of in use phones',\n    \"DWASHUSE\": 'Dishwasher use per week',\n    \"PLAYSTA\": '# of game consoles used',\n    \"INTSTREAM\": '# of streaming devices used',\n    \"OVEN\": '# of wall ovens',\n    \"NUMFREEZ\": '# of deep chest freezers',\n    \"CABLESAT\": '# of cable or satellite boxes',\n    \"NHSLDMEM\": '# household members',\n    \"LGTOUTNITE\": '# lights left on at night',\n    \"TOTROOMS\": '# total rooms',\n    \"BEDROOMS\": '# bedrooms'\n}\n\ntext_widgets = {\n    desc: widgets.Text(\n        value='',\n        placeholder=label,\n        description=desc,\n        disabled=False\n    ) for desc, label in descriptions_labels.items()\n}\n\ntextOutput = widgets.Text()\nbutton = widgets.Button(description='Calculate')\n\ndef get_data():\n    data_dict = {}\n    for desc, widget in text_widgets.items():\n        try:\n            value = float(widget.value)\n            if desc == \"SQFTEST\" and 0 <= value <= 10000:\n                data_dict[desc] = value\n            elif desc != \"SQFTEST\" and 0 <= value <= 20:\n                data_dict[desc] = value\n            else:\n                max_value = 10000 if desc == \"SQFTEST\" else 20\n                return f\"Error: {desc} must be between 0 and {max_value}.\"\n        except ValueError:\n            return f\"Error: {desc} must be a number.\"\n    return data_dict\n\n# Define what happens when the button is clicked\ndef on_button_clicked(b):\n    result = get_data()\n    if isinstance(result, dict):\n        #textOutput.value = str(result)\n        textOutput.value = str(predict_kwh_total(result))\n    else:\n        textOutput.value = result\n        \n\n# Set the function to be called when the button is clicked\nbutton.on_click(on_button_clicked)\n\n# Display all widgets, the button, and the output textbox\nfor widget in text_widgets.values():\n    display(widget)\nprint('Calculate Estimated Annual KWH Consumption')\ndisplay(button, textOutput)\n\n\n",
      "metadata": {
        "trusted": true
      },
      "outputs": [
        {
          "output_type": "display_data",
          "data": {
            "text/plain": "Text(value='', description='SQFTEST', placeholder='Estimated Square Footage')",
            "application/vnd.jupyter.widget-view+json": {
              "version_major": 2,
              "version_minor": 0,
              "model_id": "d9e822ebeae646d5b0b88a7090c3c98f"
            }
          },
          "metadata": {}
        },
        {
          "output_type": "display_data",
          "data": {
            "text/plain": "Text(value='', description='TVCOLOR', placeholder='# of in use televisions')",
            "application/vnd.jupyter.widget-view+json": {
              "version_major": 2,
              "version_minor": 0,
              "model_id": "4e3d74647c6543d890f4a7874d4e16c5"
            }
          },
          "metadata": {}
        },
        {
          "output_type": "display_data",
          "data": {
            "text/plain": "Text(value='', description='NUMSMPHONE', placeholder='# of in use phones')",
            "application/vnd.jupyter.widget-view+json": {
              "version_major": 2,
              "version_minor": 0,
              "model_id": "bf588c2af9be4d69af1b8bc23938d07a"
            }
          },
          "metadata": {}
        },
        {
          "output_type": "display_data",
          "data": {
            "text/plain": "Text(value='', description='DWASHUSE', placeholder='Dishwasher use per week')",
            "application/vnd.jupyter.widget-view+json": {
              "version_major": 2,
              "version_minor": 0,
              "model_id": "78c236bafa8d4b61a774db7dca801dfc"
            }
          },
          "metadata": {}
        },
        {
          "output_type": "display_data",
          "data": {
            "text/plain": "Text(value='', description='PLAYSTA', placeholder='# of game consoles used')",
            "application/vnd.jupyter.widget-view+json": {
              "version_major": 2,
              "version_minor": 0,
              "model_id": "37aa6adf412c400794dc20827e2fd0f9"
            }
          },
          "metadata": {}
        },
        {
          "output_type": "display_data",
          "data": {
            "text/plain": "Text(value='', description='INTSTREAM', placeholder='# of streaming devices used')",
            "application/vnd.jupyter.widget-view+json": {
              "version_major": 2,
              "version_minor": 0,
              "model_id": "a507e4366a024d24aa1082ece1294206"
            }
          },
          "metadata": {}
        },
        {
          "output_type": "display_data",
          "data": {
            "text/plain": "Text(value='', description='OVEN', placeholder='# of wall ovens')",
            "application/vnd.jupyter.widget-view+json": {
              "version_major": 2,
              "version_minor": 0,
              "model_id": "33c1e72b40db442fb55228f8749ce490"
            }
          },
          "metadata": {}
        },
        {
          "output_type": "display_data",
          "data": {
            "text/plain": "Text(value='', description='NUMFREEZ', placeholder='# of deep chest freezers')",
            "application/vnd.jupyter.widget-view+json": {
              "version_major": 2,
              "version_minor": 0,
              "model_id": "27396c626656423789427a067be15562"
            }
          },
          "metadata": {}
        },
        {
          "output_type": "display_data",
          "data": {
            "text/plain": "Text(value='', description='CABLESAT', placeholder='# of cable or satellite boxes')",
            "application/vnd.jupyter.widget-view+json": {
              "version_major": 2,
              "version_minor": 0,
              "model_id": "530dbed7ffad414490f696ee8bbac898"
            }
          },
          "metadata": {}
        },
        {
          "output_type": "display_data",
          "data": {
            "text/plain": "Text(value='', description='NHSLDMEM', placeholder='# household members')",
            "application/vnd.jupyter.widget-view+json": {
              "version_major": 2,
              "version_minor": 0,
              "model_id": "0a4ec486f9734443a22d8d1646961212"
            }
          },
          "metadata": {}
        },
        {
          "output_type": "display_data",
          "data": {
            "text/plain": "Text(value='', description='LGTOUTNITE', placeholder='# lights left on at night')",
            "application/vnd.jupyter.widget-view+json": {
              "version_major": 2,
              "version_minor": 0,
              "model_id": "701996e84f204919a892d6c0597fca6c"
            }
          },
          "metadata": {}
        },
        {
          "output_type": "display_data",
          "data": {
            "text/plain": "Text(value='', description='TOTROOMS', placeholder='# total rooms')",
            "application/vnd.jupyter.widget-view+json": {
              "version_major": 2,
              "version_minor": 0,
              "model_id": "424ca79578404095a571988fa256aaef"
            }
          },
          "metadata": {}
        },
        {
          "output_type": "display_data",
          "data": {
            "text/plain": "Text(value='', description='BEDROOMS', placeholder='# bedrooms')",
            "application/vnd.jupyter.widget-view+json": {
              "version_major": 2,
              "version_minor": 0,
              "model_id": "f458131be9ab4bca863d4057a7fe5ce3"
            }
          },
          "metadata": {}
        },
        {
          "name": "stdout",
          "text": "Calculate Estimated Annual KWH Consumption\n",
          "output_type": "stream"
        },
        {
          "output_type": "display_data",
          "data": {
            "text/plain": "Button(description='Calculate', style=ButtonStyle())",
            "application/vnd.jupyter.widget-view+json": {
              "version_major": 2,
              "version_minor": 0,
              "model_id": "2c46fc4050a84999922aaa3226028523"
            }
          },
          "metadata": {}
        },
        {
          "output_type": "display_data",
          "data": {
            "text/plain": "Text(value='')",
            "application/vnd.jupyter.widget-view+json": {
              "version_major": 2,
              "version_minor": 0,
              "model_id": "c0032872957346ac84b506ef9d22e21b"
            }
          },
          "metadata": {}
        }
      ],
      "execution_count": 3
    }
  ]
}